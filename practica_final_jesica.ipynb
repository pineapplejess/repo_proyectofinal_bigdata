{
 "cells": [
  {
   "cell_type": "code",
   "execution_count": 2,
   "metadata": {},
   "outputs": [],
   "source": [
    "import pandas as pd"
   ]
  },
  {
   "cell_type": "markdown",
   "metadata": {},
   "source": [
    "Cargar datos"
   ]
  },
  {
   "cell_type": "code",
   "execution_count": 3,
   "metadata": {},
   "outputs": [],
   "source": [
    "# Importamos el dataset de los datos de los pokemon\n",
    "df = pd.read_csv('dataset_final.csv', keep_default_na= False, index_col=0)"
   ]
  },
  {
   "cell_type": "code",
   "execution_count": 8,
   "metadata": {},
   "outputs": [
    {
     "name": "stdout",
     "output_type": "stream",
     "text": [
      "800\n"
     ]
    }
   ],
   "source": [
    "'''\n",
    "1. ¿Cuántos pokémon hay en el dataset?\n",
    "'''\n",
    "total = len(df.index)\n",
    "print(total)"
   ]
  },
  {
   "cell_type": "code",
   "execution_count": 10,
   "metadata": {},
   "outputs": [
    {
     "name": "stdout",
     "output_type": "stream",
     "text": [
      "28\n"
     ]
    }
   ],
   "source": [
    "'''\n",
    "2. ¿Cuántos pokémon hay de tipo Poison? (Type 1)\n",
    "'''\n",
    "poison = df[\"Type 1\"].value_counts()[\"Poison\"]\n",
    "print(poison)"
   ]
  },
  {
   "cell_type": "code",
   "execution_count": 14,
   "metadata": {},
   "outputs": [
    {
     "name": "stdout",
     "output_type": "stream",
     "text": [
      "18\n"
     ]
    }
   ],
   "source": [
    "'''\n",
    "3. ¿Cuántos tipos diferentes de pokémon hay? (Type 1)\n",
    "'''\n",
    "df_unique = df[\"Type 1\"].unique()\n",
    "print(len(df_unique))"
   ]
  },
  {
   "cell_type": "code",
   "execution_count": 18,
   "metadata": {},
   "outputs": [
    {
     "name": "stdout",
     "output_type": "stream",
     "text": [
      "Water       112\n",
      "Normal       98\n",
      "Grass        70\n",
      "Bug          69\n",
      "Psychic      57\n",
      "Fire         52\n",
      "Electric     44\n",
      "Rock         44\n",
      "Dragon       32\n",
      "Ground       32\n",
      "Ghost        32\n",
      "Dark         31\n",
      "Poison       28\n",
      "Steel        27\n",
      "Fighting     27\n",
      "Ice          24\n",
      "Fairy        17\n",
      "Flying        4\n",
      "Name: Type 1, dtype: int64\n"
     ]
    }
   ],
   "source": [
    "'''\n",
    "2. ¿Cuántos pokémon hay de cada tipo? (Type 1)\n",
    "'''\n",
    "tipo= df[\"Type 1\"].value_counts()\n",
    "print(tipo)\n"
   ]
  },
  {
   "cell_type": "code",
   "execution_count": 19,
   "metadata": {},
   "outputs": [
    {
     "name": "stdout",
     "output_type": "stream",
     "text": [
      "Water\n"
     ]
    }
   ],
   "source": [
    "'''\n",
    "2.1 ¿cual es el tipo de pokémon con más pokémon? (Type 1)\n",
    "'''\n",
    "pokemon_maximo = df_unique.max()\n",
    "print(pokemon_maximo)"
   ]
  },
  {
   "cell_type": "code",
   "execution_count": 24,
   "metadata": {},
   "outputs": [
    {
     "name": "stdout",
     "output_type": "stream",
     "text": [
      "#\n",
      "386    DeoxysSpeed Forme\n",
      "Name: Name, dtype: object\n"
     ]
    }
   ],
   "source": [
    "'''\n",
    "3. ¿Cuál es el pokémon más rápido?\n",
    "'''\n",
    "fastest_pokemon = df[df.Speed == df.Speed.max()]\n",
    "print(fastest_pokemon[\"Name\"])"
   ]
  },
  {
   "cell_type": "code",
   "execution_count": 31,
   "metadata": {},
   "outputs": [
    {
     "name": "stdout",
     "output_type": "stream",
     "text": [
      "123\n"
     ]
    }
   ],
   "source": [
    "'''\n",
    "4. ¿Cuántos pokemon tiene una defensa superior a 100?\n",
    "'''\n",
    "defensa100 = df[df[\"Defense\"]>100]\n",
    "print(len(defensa100.index))\n"
   ]
  },
  {
   "cell_type": "code",
   "execution_count": 33,
   "metadata": {},
   "outputs": [
    {
     "name": "stdout",
     "output_type": "stream",
     "text": [
      "123\n"
     ]
    }
   ],
   "source": [
    "'''\n",
    "5. ¿Cuántos pokemon tiene una defensa superior a 100 y una velocidad superior a 100?\n",
    "'''\n",
    "speed100 = defensa100[\"Speed\"] > 100\n",
    "print(len(speed100.index))"
   ]
  },
  {
   "cell_type": "code",
   "execution_count": 35,
   "metadata": {},
   "outputs": [],
   "source": [
    "'''\n",
    "6. Ordena el dataset por el tipo 1 y por el tipo 2\n",
    "'''\n",
    "dataset_ordenado= df.sort_values([\"Type 1\", \"Type 2\"])\n"
   ]
  },
  {
   "cell_type": "code",
   "execution_count": null,
   "metadata": {},
   "outputs": [],
   "source": [
    "'''\n",
    "7. Crea un nuevo dataset con los pokémon de tipo Water y Fire como primer tipo\n",
    "'''\n",
    "water_fire_dataset = df[df[\"Type 1\"].isin([\"Water\",\"Fire\"])]\n",
    "print(water_fire_dataset)"
   ]
  },
  {
   "cell_type": "code",
   "execution_count": null,
   "metadata": {},
   "outputs": [],
   "source": [
    "'''\n",
    "8. Crea un nuevo dataset con los pokemon Legendary\n",
    "'''\n",
    "legendary_dataset = df[df[\"Legendary\"] == True]\n",
    "print(legendary_dataset)"
   ]
  },
  {
   "cell_type": "code",
   "execution_count": 39,
   "metadata": {},
   "outputs": [
    {
     "name": "stdout",
     "output_type": "stream",
     "text": [
      "Total         637.384615\n",
      "HP             92.738462\n",
      "Attack        116.676923\n",
      "Defense        99.661538\n",
      "Sp. Atk       122.184615\n",
      "Sp. Def       105.938462\n",
      "Speed         100.184615\n",
      "Generation      3.769231\n",
      "Legendary       1.000000\n",
      "dtype: float64\n"
     ]
    }
   ],
   "source": [
    "'''\n",
    "9. Calcula el promedio de stats de los pokemon Legendary (HP, Attack, Defense, Sp. Atk, Sp. Def, Speed) y los no Legendary\n",
    "'''\n",
    "legendary_avg=legendary_dataset.mean(numeric_only=True)\n",
    "print(legendary_avg)"
   ]
  },
  {
   "cell_type": "code",
   "execution_count": 42,
   "metadata": {},
   "outputs": [
    {
     "name": "stdout",
     "output_type": "stream",
     "text": [
      "                     HP      Attack    Defense     Sp. Atk     Sp. Def  \\\n",
      "Legendary     92.738462  116.676923  99.661538  122.184615  105.938462   \n",
      "No legendary  67.182313   75.669388  71.559184   68.454422   68.892517   \n",
      "\n",
      "                   Speed  Generation  \n",
      "Legendary     100.184615    3.769231  \n",
      "No legendary   65.455782    3.284354  \n"
     ]
    }
   ],
   "source": [
    "'''\n",
    "10. Crea un nuevo dataframe con el resultado del anterior ejercicio comparando ambos promedios\n",
    "\n",
    "ejemplo:\n",
    "                HP  Attack  Defense  Sp. Atk  Sp. Def  Speed\n",
    "Legendary       99      90       89       91       94     90\n",
    "No Legendary    80      95       75       12       43     87\n",
    "\n",
    "'''\n",
    "nolegendary_dataset = df[df[\"Legendary\"] == False]\n",
    "nolegendary_avg= nolegendary_dataset.mean(numeric_only=True)\n",
    "\n",
    "df2 = pd.concat([legendary_avg, nolegendary_avg], axis=1).T\n",
    "\n",
    "df2.drop(columns=['Total',\"Legendary\"], axis=1, inplace=True)\n",
    "df2.index=[\"Legendary\", \"No legendary\"]\n",
    "\n",
    "print(df2)"
   ]
  },
  {
   "cell_type": "code",
   "execution_count": 44,
   "metadata": {},
   "outputs": [],
   "source": [
    "'''\n",
    "11. Añade una nueva colunma ['Doble tipo'] al dataframe inicial que inndique si el pokemo tiene dos tipos o no\n",
    "'''\n",
    "df[\"Doble tipo\"] = df.apply(lambda row: (row[\"Type 1\"] !=\"\" and row[\"Type 2\"] != \"\"),axis=1)"
   ]
  },
  {
   "cell_type": "code",
   "execution_count": 45,
   "metadata": {},
   "outputs": [
    {
     "name": "stdout",
     "output_type": "stream",
     "text": [
      "      Type 1  Type 2                   Name\n",
      "#                                          \n",
      "1      Grass  Poison              Bulbasaur\n",
      "2      Grass  Poison                Ivysaur\n",
      "3      Grass  Poison               Venusaur\n",
      "3      Grass  Poison  VenusaurMega Venusaur\n",
      "6       Fire  Flying              Charizard\n",
      "..       ...     ...                    ...\n",
      "719     Rock   Fairy                Diancie\n",
      "719     Rock   Fairy    DiancieMega Diancie\n",
      "720  Psychic   Ghost    HoopaHoopa Confined\n",
      "720  Psychic    Dark     HoopaHoopa Unbound\n",
      "721     Fire   Water              Volcanion\n",
      "\n",
      "[414 rows x 3 columns]\n"
     ]
    }
   ],
   "source": [
    "'''\n",
    "12. Muestra las columas Name, Type 1, Type 2 de los pokémon que tienen dos tipos y ordenalos por Type 1 , Type 2 y Name\n",
    "'''\n",
    "\n",
    "pokemon_dobletype = df[df[\"Doble tipo\"]== True]\n",
    "df3 = pokemon_dobletype[[\"Type 1\", \"Type 2\",\"Name\"]]\n",
    "print(df3)"
   ]
  },
  {
   "cell_type": "code",
   "execution_count": 18,
   "metadata": {},
   "outputs": [],
   "source": [
    "from functools import reduce\n",
    "\n",
    "'''\n",
    "13. Dada una lista de Artículos con sus precio. Define las siguientes funciones:\n",
    "Puedes definir más funciones si lo consideras necesario.\n",
    "'''\n",
    "articulos = {\n",
    "    'Camisa': 20,\n",
    "    'Pantalón': 30,\n",
    "    'Calcetines': 5,\n",
    "    'Zapatos': 50,\n",
    "    'Gorra': 10,\n",
    "    'Bufanda': 15,\n",
    "    'Gafas': 25,\n",
    "    'Reloj': 35,\n",
    "    'Corbata': 40,\n",
    "}\n",
    "\n",
    "compra = ['Camisa', 'Pantalón', 'Pantalón', 'Gorra', 'Gafas', 'Corbata']\n",
    "\n",
    "\n",
    "# A. Una función que calcule el precio total de la compra\n",
    "compra_total_funcional = reduce(lambda x,y: x+y, list(map(lambda articulo:articulos[articulo],compra)))\n",
    "\n",
    "# B. Una función que calcule el precio total de la compra con un descuento del 10%\n",
    "calculate_discount = lambda price:price -(price*10)/100\n",
    "# C. Una función que calcule el precio total de la compra con un descuento del 10% si la compra supera los 100€\n",
    "posible_descuento = lambda total_compra: calculate_discount(total_compra) if total_compra > 100 else total_compra\n",
    "precio_con_descuento=posible_descuento(compra_total_funcional)\n",
    "\n",
    "# D. Una función que calcule el precio total aplicando el IVA (21%)\n",
    "iva= lambda total_compra: total_compra + (total_compra*21/100)\n",
    "\n",
    "# E.lista los artículos cuyo precio es superior a 20€\n",
    "mayor20 = list(filter(lambda articulo: articulos[articulo]>20, compra))\n"
   ]
  },
  {
   "cell_type": "code",
   "execution_count": null,
   "metadata": {},
   "outputs": [],
   "source": [
    "'''\n",
    "14. Dada una lista de tuplas con el nombre de un alumno, apellidos, curso y sus notas. \n",
    "\n",
    " Define una funcion que reciba el curso y saque una lista en la que aparezca e nombre y apellidos y el promedio de sus notas.\n",
    " Puedes definir más funciones si lo consideras necesario.\n",
    "'''\n",
    "\n",
    "alumnos = [('Juan', 'Pérez', '1', [5, 6, 7, 8, 9]),\n",
    "            ('Ana', 'García', '2', [5, 6, 7, 8, 9]),\n",
    "            ('Luis', 'González', '1', [5, 6, 7, 8, 9]),\n",
    "            ('María', 'Martínez', '2', [5, 6, 7, 8, 9]),\n",
    "            ('Pedro', 'Rodríguez', '1', [5, 6, 7, 8, 9]),\n",
    "            ('Lucía', 'Hernández', '2', [5, 6, 7, 8, 9]),\n",
    "            ('Marta', 'López', '1', [5, 6, 7, 8, 9]),\n",
    "            ('Sara', 'Díaz', '2', [5, 6, 7, 8, 9]),\n",
    "            ('Javier', 'Sánchez', '1', [5, 6, 7, 8, 9]),\n",
    "            ('Miguel', 'Fernández', '2', [5, 6, 7, 8, 9]),\n",
    "            ('Sergio', 'Jiménez', '1', [5, 6, 7, 8, 9]),\n",
    "            ('Sandra', 'Ruiz', '2', [5, 6, 7, 8, 9]),\n",
    "            ('Pablo', 'Álvarez', '1', [5, 6, 7, 8, 9]),\n",
    "            ('María', 'Gómez', '2', [5, 6, 7, 8, 9]),\n",
    "]\n",
    "\n",
    "def extraer_alumnos_curso (curso:str):\n",
    "    lista_alumnos = list(filter(lambda alumno: alumno[2]==curso,alumnos))\n",
    "    calcular_promedios = lambda notas: sum(notas)/len(notas)\n",
    "    return list(map(lambda alumno:(alumno[0],alumno[1],calcular_promedios(alumno[3])),lista_alumnos))\n",
    "\n",
    "result = extraer_alumnos_curso(\"1\")\n"
   ]
  }
 ],
 "metadata": {
  "kernelspec": {
   "display_name": "Python 3.10.8 64-bit (microsoft store)",
   "language": "python",
   "name": "python3"
  },
  "language_info": {
   "codemirror_mode": {
    "name": "ipython",
    "version": 3
   },
   "file_extension": ".py",
   "mimetype": "text/x-python",
   "name": "python",
   "nbconvert_exporter": "python",
   "pygments_lexer": "ipython3",
   "version": "3.10.8"
  },
  "orig_nbformat": 4,
  "vscode": {
   "interpreter": {
    "hash": "2f31d2f7a8eb81bec9ea9ee94b055f06b2482815f729026ff6260a3fe7c83ab1"
   }
  }
 },
 "nbformat": 4,
 "nbformat_minor": 2
}
